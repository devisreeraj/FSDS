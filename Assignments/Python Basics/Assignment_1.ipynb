{
 "cells": [
  {
   "cell_type": "markdown",
   "id": "2f0fc7ca",
   "metadata": {},
   "source": [
    "### <u> Question 1 </u>\n",
    "In the below elements which of them are values or an expression? eg:- values can be integer or string and expressions will be mathematical operators.\n",
    "*\n",
    "'hello'\n",
    "-87.8\n",
    "-\n",
    "/\n",
    "+\n",
    "6"
   ]
  },
  {
   "cell_type": "markdown",
   "id": "755e83d8",
   "metadata": {},
   "source": [
    "### <u> Answer 1 </u>\n",
    "\n",
    "<u>  Values </u>\n",
    "- 'hello'\n",
    "- -87.8\n",
    "- 6\n",
    "\n",
    "<br/>\n",
    "\n",
    "<u>  Expressions </u>\n",
    "- *\n",
    "- -\n",
    "- /\n",
    "- +"
   ]
  },
  {
   "cell_type": "markdown",
   "id": "88ab1a7c",
   "metadata": {},
   "source": [
    "### <u> Question 2 </u>\n",
    "\n",
    "What is the difference between string and variable?"
   ]
  },
  {
   "cell_type": "markdown",
   "id": "40d3f9e8",
   "metadata": {},
   "source": [
    "### <u> Answer 2 </u>\n",
    "\n",
    "A variable is basically the name of the location in the primary memory of the computer. This can be chosen. A variable can store everything from strings to numbers.\n",
    "\n",
    "A string is the values inside the quotes assigned to a string.\n",
    "\n",
    "A variable can hold a string, but a string can't hold a variable"
   ]
  },
  {
   "cell_type": "markdown",
   "id": "8bb1f30c",
   "metadata": {},
   "source": [
    "### <u> Question 3 </u>\n",
    "\n",
    "Describe three different data types."
   ]
  },
  {
   "cell_type": "markdown",
   "id": "6f186155",
   "metadata": {},
   "source": [
    "### <u> Answer 3 </u>\n",
    "\n",
    "The classification of data items or to put the data value into some sort of data category is called Data Types.\n",
    "\n",
    "- <u>Python Set</u>\n",
    "\n",
    "The Collection of Unique items that are not in order is called Set. Braces {} are used to defined set and a comma is used to separate values. One will find that the items are unordered in a set data type.\n",
    "\n",
    "Duplicates are eliminated in a set and set only keeps unique values. Operations like intersection and union can be performed on two sets. \n",
    "\n",
    "Python set will look like this:\n",
    "\n",
    " a = {4,5,5,6,6,6}\n",
    " o/p of a will be {4, 5, 6}\n",
    "\n",
    "The slicing operator does not work on set because the set is not a collection of ordered items, and that is why there is no meaning to the indexing of set.\n",
    "\n",
    "- <u>Python List</u>\n",
    "\n",
    "An ordered sequence of items is called List. It is a very flexible data type in Python. There is no need for the value in the list to be of the same data type. The List is the data type that is highly used data type in Python. List datatype is the most exclusive datatype in Python for containing versatile data. It can easily hold different types of data in Python.  \n",
    "\n",
    "It is effortless to declare a list. The list is enclosed with brackets and commas are used to separate the items. \n",
    "\n",
    "A list can look like this:\n",
    "\n",
    "a = [5,9.9,'list']\n",
    "\n",
    "One can also alter the value of an element in the list.\n",
    "\n",
    "- <u>Python Tuple</u>\n",
    "\n",
    "\n",
    "A Tuple is a sequence of items that are in order, and it is not possible to modify the Tuples. The main difference list and tuples are that tuple is immutable, which means it cannot be altered. Tuples are generally faster than the list data type in Python because it cannot be changed or modified like list datatype. The primary use of Tuples is to write-protect data. Tuples can be represented by using parentheses (), and commas are used to separate the items. \n",
    "\n",
    "Tuples can look like this:\n",
    "\n",
    "t = (6,'tuple',4+2r)\n",
    "\n",
    "In the case of a tuple, one can use the slicing operator to extract the item, but it will not allow changing the value."
   ]
  },
  {
   "cell_type": "markdown",
   "id": "ce4388b4",
   "metadata": {},
   "source": [
    "### <u> Question 4 </u>\n",
    "\n",
    "What is an expression made up of? What do all expressions do?"
   ]
  },
  {
   "cell_type": "markdown",
   "id": "0db29397",
   "metadata": {},
   "source": [
    "### <u> Answer 4 </u>\n",
    "\n",
    "An expression is a construct made up of variables, operators, and method invocations, which are constructed according to the syntax of the language, that evaluates to a single value.Expressions need to be evaluated. If you ask Python to print an expression, the interpreter evaluates the expression and displays the result.\n",
    "\n"
   ]
  },
  {
   "cell_type": "markdown",
   "id": "159b6ccd",
   "metadata": {},
   "source": [
    "### <u> Question 5 </u>\n",
    "\n",
    "This assignment statements, like spam = 10. What is the difference between an expression and a statement?"
   ]
  },
  {
   "cell_type": "markdown",
   "id": "8edcf3f6",
   "metadata": {},
   "source": [
    "### <u> Answer 5 </u>\n",
    "\n",
    "Evaluation of an expression always Produces or returns a result value. Execution of a statement may or may not produces or displays a result value, it only does whatever the statement says."
   ]
  },
  {
   "cell_type": "markdown",
   "id": "2a284808",
   "metadata": {},
   "source": [
    "### <u> Question 6 </u>\n",
    "\n",
    "After running the following code, what does the variable bacon contain?\n",
    "bacon = 22\n",
    "bacon + 1"
   ]
  },
  {
   "cell_type": "markdown",
   "id": "0d5158ef",
   "metadata": {},
   "source": [
    "### <u> Answer 6 </u>\n",
    "\n",
    "22"
   ]
  },
  {
   "cell_type": "markdown",
   "id": "a0fc1e6d",
   "metadata": {},
   "source": [
    "### <u> Question 7 </u>\n",
    "\n",
    "What should the values of the following two terms be?\n",
    "'spam' + 'spamspam'\n",
    "'spam' * 3\n"
   ]
  },
  {
   "cell_type": "markdown",
   "id": "0e16f20b",
   "metadata": {},
   "source": [
    "### <u> Answer 7 </u>\n",
    "\n",
    "'spam' + 'spamspam'  => 'spamspamspam'\n",
    "'spam' * 3 => 'spamspamspam'"
   ]
  },
  {
   "cell_type": "markdown",
   "id": "1cf44a9d",
   "metadata": {},
   "source": [
    "### <u> Question 8 </u>\n",
    "\n",
    "Why is eggs a valid variable name while 100 is invalid?"
   ]
  },
  {
   "cell_type": "markdown",
   "id": "90d9764b",
   "metadata": {},
   "source": [
    "### <u> Answer 8 </u>\n",
    "\n",
    "Because variable names cannot begin with a number."
   ]
  },
  {
   "cell_type": "markdown",
   "id": "0aefd376",
   "metadata": {},
   "source": [
    "### <u> Question 9 </u>\n",
    "\n",
    "What three functions can be used to get the integer, floating-point number, or string version of a value?"
   ]
  },
  {
   "cell_type": "markdown",
   "id": "d2e914da",
   "metadata": {},
   "source": [
    "### <u> Answer 9 </u>\n",
    "\n",
    "The int(), float(), and str() functions will evaluate to the integer, floating-point number, and string versions of the value passed to them."
   ]
  },
  {
   "cell_type": "markdown",
   "id": "001552ff",
   "metadata": {},
   "source": [
    "### <u> Question 10 </u>\n",
    "\n",
    "Why does this expression cause an error? How can you fix it?\n",
    "'I have eaten ' + 99 + ' burritos.'"
   ]
  },
  {
   "cell_type": "markdown",
   "id": "056e9804",
   "metadata": {},
   "source": [
    "### <u> Answer 10 </u>\n",
    "\n",
    "The expression causes an error because 99 is an integer, and only strings can be concatenated to other strings with the + operator. The correct way is I have eaten ' + str(99) + ' burritos.'."
   ]
  }
 ],
 "metadata": {
  "kernelspec": {
   "display_name": "Python 3 (ipykernel)",
   "language": "python",
   "name": "python3"
  },
  "language_info": {
   "codemirror_mode": {
    "name": "ipython",
    "version": 3
   },
   "file_extension": ".py",
   "mimetype": "text/x-python",
   "name": "python",
   "nbconvert_exporter": "python",
   "pygments_lexer": "ipython3",
   "version": "3.9.7"
  }
 },
 "nbformat": 4,
 "nbformat_minor": 5
}
